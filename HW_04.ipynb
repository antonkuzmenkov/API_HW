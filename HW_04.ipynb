{
 "cells": [
  {
   "cell_type": "code",
   "execution_count": null,
   "metadata": {},
   "outputs": [],
   "source": [
    "## Написать приложение, которое собирает основные новости с сайтов news.mail.ru, lenta.ru, yandex-новости. Для парсинга использовать XPath. Структура данных должна содержать:\n",
    "# название источника;\n",
    "# наименование новости;\n",
    "# ссылку на новость;\n",
    "# дата публикации.\n",
    "# Сложить собранные данные в БД"
   ]
  },
  {
   "cell_type": "code",
   "execution_count": 53,
   "metadata": {},
   "outputs": [],
   "source": [
    "\n",
    "from lxml import html\n",
    "import requests\n",
    "from datetime import datetime\n",
    "\n",
    "\n",
    "def get_news_lenta_ru():\n",
    "    \n",
    "    news = []\n",
    "    \n",
    "    keys = ('title', 'date', 'link')\n",
    "    date_format = '%Y-%m-%dT%H:%M:%S%z'\n",
    "    link_lenta = 'https://lenta.ru/'\n",
    "    \n",
    "    request = requests.get(link_lenta)\n",
    "\n",
    "    root = html.fromstring(request.text)\n",
    "    root.make_links_absolute(link_lenta)\n",
    "    \n",
    "    news_links = root.xpath('''(//section[@class=\"row b-top7-for-main js-top-seven\"]//div[@class=\"first-item\"]/h2 | \n",
    "                                //section[@class=\"row b-top7-for-main js-top-seven\"]//div[@class=\"item\"])\n",
    "                                /a/@href''')\n",
    "    \n",
    "    news_text = root.xpath('''(//section[@class=\"row b-top7-for-main js-top-seven\"]//div[@class=\"first-item\"]/h2 | \n",
    "                                //section[@class=\"row b-top7-for-main js-top-seven\"]//div[@class=\"item\"])\n",
    "                                /a/text()''')\n",
    "    \n",
    "    for i in range(len(news_text)):\n",
    "        news_text[i] = news_text[i].replace(u'\\xa0', u' ')\n",
    "    \n",
    "    news_date = []\n",
    "    \n",
    "    for item in news_links:\n",
    "        request = requests.get(item)\n",
    "        root = html.fromstring(request.text)\n",
    "        date = root.xpath('//time[@itemprop=\"datePublished\"]/@datetime')\n",
    "        news_date.extend(date)\n",
    "\n",
    "    for i in range(len(news_date)):\n",
    "        news_date[i] = datetime.strptime(news_date[i], date_format)\n",
    "        \n",
    "    for item in list(zip(news_text, news_date, news_links)):\n",
    "        news_dict = {}\n",
    "        for key, value in zip(keys, item):\n",
    "            news_dict[key] = value\n",
    "        \n",
    "        news_dict['source'] = 'lenta.ru'\n",
    "        news.append(news_dict)\n",
    "    \n",
    "    return news\n",
    "\n",
    "\n",
    "\n",
    "\n",
    "\n"
   ]
  },
  {
   "cell_type": "code",
   "execution_count": 54,
   "metadata": {},
   "outputs": [],
   "source": [
    "def get_news_mail_ru():\n",
    "    \n",
    "    news = []    \n",
    "    \n",
    "    headers = {\n",
    "                'User-Agent': 'Mozilla/5.0 (Windows NT 10.0; Win64; x64) AppleWebKit/537.36 (KHTML, like Gecko) Chrome/85.0.4183.102 YaBrowser/20.9.3.126 Yowser/2.5 Safari/537.36'\n",
    "            }\n",
    "    \n",
    "    keys = ('title', 'date', 'link')\n",
    "    date_format = '%Y-%m-%dT%H:%M:%S%z'\n",
    "    \n",
    "\n",
    "    link_mail_ru = 'https://mail.ru/'\n",
    "    \n",
    "    request = requests.get(link_mail_ru, headers=headers)\n",
    "    root = html.fromstring(request.text)\n",
    "    \n",
    "    news_links = root.xpath('''(//div[@class =  \"news-item o-media news-item_media news-item_main\"]  |  \n",
    "                                //div[@class =  \"news-item__inner\"])\n",
    "                                /a[contains(@href, \"news.mail.ru\")]/@href''')\n",
    "    \n",
    "    news_text = root.xpath('''(//div[@class =  \"news-item o-media news-item_media news-item_main\"]//h3  |  \n",
    "                               //div[@class =  \"news-item__inner\"]/a[contains(@href, \"news.mail.ru\")])\n",
    "                               /text()''')\n",
    "    \n",
    "    for i in range(len(news_text)):\n",
    "        news_text[i] = news_text[i].replace(u'\\xa0', u' ')\n",
    "    \n",
    "    news_links_temp = []\n",
    "    for item in news_links:\n",
    "        item = item.split('/')\n",
    "        news_links_temp.append('/'.join(item[0:5]))\n",
    "        \n",
    "    news_links = news_links_temp\n",
    "    del(news_links_temp)\n",
    "    \n",
    "    news_date = []\n",
    "    \n",
    "    for item in news_links:\n",
    "        request = requests.get(item, headers=headers)\n",
    "        root = html.fromstring(request.text)\n",
    "        date = root.xpath('//span[@class=\"note__text breadcrumbs__text js-ago\"]/@datetime')\n",
    "        news_date.extend(date)\n",
    "        \n",
    "    for i in range(len(news_date)):\n",
    "        news_date[i] = datetime.strptime(news_date[i], date_format)\n",
    "        \n",
    "    for item in list(zip(news_text, news_date, news_links)):\n",
    "        news_dict = {}\n",
    "        for key, value in zip(keys, item):\n",
    "            news_dict[key] = value\n",
    "        \n",
    "        news_dict['source'] = 'mail.ru'\n",
    "        news.append(news_dict)\n",
    "    \n",
    "    return news"
   ]
  },
  {
   "cell_type": "code",
   "execution_count": 55,
   "metadata": {},
   "outputs": [
    {
     "data": {
      "text/plain": [
       "[]"
      ]
     },
     "execution_count": 55,
     "metadata": {},
     "output_type": "execute_result"
    }
   ],
   "source": [
    "get_news_lenta_ru()"
   ]
  },
  {
   "cell_type": "code",
   "execution_count": 56,
   "metadata": {},
   "outputs": [
    {
     "data": {
      "text/plain": [
       "[]"
      ]
     },
     "execution_count": 56,
     "metadata": {},
     "output_type": "execute_result"
    }
   ],
   "source": [
    "get_news_mail_ru()\n"
   ]
  }
 ],
 "metadata": {
  "kernelspec": {
   "display_name": "Python 3",
   "language": "python",
   "name": "python3"
  },
  "language_info": {
   "codemirror_mode": {
    "name": "ipython",
    "version": 3
   },
   "file_extension": ".py",
   "mimetype": "text/x-python",
   "name": "python",
   "nbconvert_exporter": "python",
   "pygments_lexer": "ipython3",
   "version": "3.7.3"
  },
  "toc": {
   "base_numbering": 1,
   "nav_menu": {},
   "number_sections": true,
   "sideBar": true,
   "skip_h1_title": false,
   "title_cell": "Table of Contents",
   "title_sidebar": "Contents",
   "toc_cell": false,
   "toc_position": {},
   "toc_section_display": true,
   "toc_window_display": false
  }
 },
 "nbformat": 4,
 "nbformat_minor": 4
}
